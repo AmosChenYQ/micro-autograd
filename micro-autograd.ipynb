{
 "cells": [
  {
   "cell_type": "code",
   "execution_count": 1,
   "metadata": {},
   "outputs": [],
   "source": [
    "import math\n",
    "import numpy as np\n",
    "import matplotlib.pyplot as plt\n",
    "%matplotlib inline"
   ]
  },
  {
   "cell_type": "code",
   "execution_count": 12,
   "metadata": {},
   "outputs": [
    {
     "name": "stdout",
     "output_type": "stream",
     "text": [
      "fhfkptrv\n",
      "rnknclva\n",
      "fxcyhowe\n"
     ]
    }
   ],
   "source": [
    "import random\n",
    "import string\n",
    "\n",
    "def label_generator():\n",
    "  existed_label = set()\n",
    "  \n",
    "  def get_random_string(length=8):\n",
    "    letters = string.ascii_lowercase\n",
    "    result_str = ''.join(random.choice(letters) for i in range(length))\n",
    "    return result_str\n",
    "  \n",
    "  while True:\n",
    "    random_generated_label = get_random_string()\n",
    "    if random_generated_label not in existed_label:\n",
    "      existed_label.add(random_generated_label)\n",
    "      break\n",
    "\n",
    "  return random_generated_label\n",
    "\n",
    "print(label_generator())\n",
    "print(label_generator())\n",
    "print(label_generator())"
   ]
  },
  {
   "cell_type": "code",
   "execution_count": 14,
   "metadata": {},
   "outputs": [],
   "source": [
    "class Value:\n",
    "  \n",
    "  def __init__(self, data, _children=(), _op=\"\", label=\"\"):\n",
    "    self.data = data\n",
    "    # Use set to filter out duplicate Value in children tuple\n",
    "    self._prev = set(_children)\n",
    "    self._op = _op\n",
    "    if label == \"\":\n",
    "      self.label = label_generator()\n",
    "    else:\n",
    "      self.label = label\n",
    "  \n",
    "  def __repr__(self):\n",
    "    return f\"Value(data={self.data})\"\n",
    "  \n",
    "  def __add__(self, other):\n",
    "    out = Value(self.data + other.data, (self, other), \"+\")\n",
    "    return out\n",
    "  \n",
    "  def __sub__(self, other):\n",
    "    out = Value(self.data - other.data, (self, other), \"-\")\n",
    "    return out\n",
    "  \n",
    "  def __mul__(self, other):\n",
    "    out = Value(self.data * other.data, (self, other), \"*\")\n",
    "    return out\n",
    "  \n",
    "a = Value(2.0, label=\"a\")\n",
    "b = Value(-3.0, label=\"b\")\n",
    "c = Value(6.0, label=\"c\")\n",
    "\n",
    "d = a + b * c\n"
   ]
  },
  {
   "cell_type": "code",
   "execution_count": 3,
   "metadata": {},
   "outputs": [],
   "source": [
    "from graphviz import Digraph"
   ]
  },
  {
   "cell_type": "code",
   "execution_count": 5,
   "metadata": {},
   "outputs": [
    {
     "name": "stdout",
     "output_type": "stream",
     "text": [
      "Value(data=-16.0)\n",
      "Visiting Value(data=-16.0)\n",
      "Children are {Value(data=2.0), Value(data=-18.0)}\n",
      "Visiting Value(data=2.0)\n",
      "Children are set()\n",
      "Visiting Value(data=-18.0)\n",
      "Children are {Value(data=6.0), Value(data=-3.0)}\n",
      "Visiting Value(data=6.0)\n",
      "Children are set()\n",
      "Visiting Value(data=-3.0)\n",
      "Children are set()\n",
      "({Value(data=2.0), Value(data=6.0), Value(data=-18.0), Value(data=-3.0), Value(data=-16.0)}, {(Value(data=-3.0), Value(data=-18.0)), (Value(data=2.0), Value(data=-16.0)), (Value(data=6.0), Value(data=-18.0)), (Value(data=-18.0), Value(data=-16.0))})\n"
     ]
    }
   ],
   "source": [
    "nodes, edges = set(), set()\n",
    "\n",
    "def build(node):\n",
    "  if node not in nodes:\n",
    "    print(f\"Visiting {node}\")\n",
    "    print(f\"Children are {node._prev}\")\n",
    "    nodes.add(node)\n",
    "    for child in node._prev:\n",
    "      edges.add((child, node))   \n",
    "      build(child)\n",
    "\n",
    "def trace(root):\n",
    "    build(root)\n",
    "    return nodes, edges\n",
    "\n",
    "print(d)\n",
    "print(trace(d))"
   ]
  },
  {
   "cell_type": "code",
   "execution_count": 15,
   "metadata": {},
   "outputs": [
    {
     "ename": "AttributeError",
     "evalue": "'Value' object has no attribute 'grad'",
     "output_type": "error",
     "traceback": [
      "\u001b[0;31m---------------------------------------------------------------------------\u001b[0m",
      "\u001b[0;31mAttributeError\u001b[0m                            Traceback (most recent call last)",
      "Cell \u001b[0;32mIn[15], line 35\u001b[0m\n\u001b[1;32m     31\u001b[0m     dot\u001b[39m.\u001b[39medge(\u001b[39mstr\u001b[39m(\u001b[39mid\u001b[39m(n1)), \u001b[39mstr\u001b[39m(\u001b[39mid\u001b[39m(n2)) \u001b[39m+\u001b[39m n2\u001b[39m.\u001b[39m_op)\n\u001b[1;32m     33\u001b[0m   \u001b[39mreturn\u001b[39;00m dot\n\u001b[0;32m---> 35\u001b[0m draw_dot(d)\n",
      "Cell \u001b[0;32mIn[15], line 22\u001b[0m, in \u001b[0;36mdraw_dot\u001b[0;34m(root)\u001b[0m\n\u001b[1;32m     20\u001b[0m uid \u001b[39m=\u001b[39m \u001b[39mstr\u001b[39m(\u001b[39mid\u001b[39m(n))\n\u001b[1;32m     21\u001b[0m \u001b[39m# for any value in the graph, create a rectangular ('record') node for it\u001b[39;00m\n\u001b[0;32m---> 22\u001b[0m dot\u001b[39m.\u001b[39mnode(name \u001b[39m=\u001b[39m uid, label \u001b[39m=\u001b[39m \u001b[39m\"\u001b[39m\u001b[39m{\u001b[39m\u001b[39m \u001b[39m\u001b[39m%s\u001b[39;00m\u001b[39m | data \u001b[39m\u001b[39m%.4f\u001b[39;00m\u001b[39m | grad \u001b[39m\u001b[39m%.4f\u001b[39;00m\u001b[39m }\u001b[39m\u001b[39m\"\u001b[39m \u001b[39m%\u001b[39m (n\u001b[39m.\u001b[39mlabel, n\u001b[39m.\u001b[39mdata, n\u001b[39m.\u001b[39;49mgrad), shape\u001b[39m=\u001b[39m\u001b[39m'\u001b[39m\u001b[39mrecord\u001b[39m\u001b[39m'\u001b[39m)\n\u001b[1;32m     23\u001b[0m \u001b[39mif\u001b[39;00m n\u001b[39m.\u001b[39m_op:\n\u001b[1;32m     24\u001b[0m   \u001b[39m# if this value is a result of some operation, create an op node for it\u001b[39;00m\n\u001b[1;32m     25\u001b[0m   dot\u001b[39m.\u001b[39mnode(name \u001b[39m=\u001b[39m uid \u001b[39m+\u001b[39m n\u001b[39m.\u001b[39m_op, label \u001b[39m=\u001b[39m n\u001b[39m.\u001b[39m_op)\n",
      "\u001b[0;31mAttributeError\u001b[0m: 'Value' object has no attribute 'grad'"
     ]
    }
   ],
   "source": [
    "from graphviz import Digraph\n",
    "\n",
    "def trace(root):\n",
    "  # builds a set of all nodes and edges in a graph\n",
    "  nodes, edges = set(), set()\n",
    "  def build(v):\n",
    "    if v not in nodes:\n",
    "      nodes.add(v)\n",
    "      for child in v._prev:\n",
    "        edges.add((child, v))\n",
    "        build(child)\n",
    "  build(root)\n",
    "  return nodes, edges\n",
    "\n",
    "def draw_dot(root):\n",
    "  dot = Digraph(format='svg', graph_attr={'rankdir': 'LR'}) # LR = left to right\n",
    "  \n",
    "  nodes, edges = trace(root)\n",
    "  for n in nodes:\n",
    "    uid = str(id(n))\n",
    "    # for any value in the graph, create a rectangular ('record') node for it\n",
    "    dot.node(name = uid, label = \"{ %s | data %.4f }\" % (n.label, n.data,), shape='record')\n",
    "    if n._op:\n",
    "      # if this value is a result of some operation, create an op node for it\n",
    "      dot.node(name = uid + n._op, label = n._op)\n",
    "      # and connect this node to it\n",
    "      dot.edge(uid + n._op, uid)\n",
    "\n",
    "  for n1, n2 in edges:\n",
    "    # connect n1 to the op node of n2\n",
    "    dot.edge(str(id(n1)), str(id(n2)) + n2._op)\n",
    "\n",
    "  return dot\n",
    "\n",
    "draw_dot(d)"
   ]
  }
 ],
 "metadata": {
  "kernelspec": {
   "display_name": "Python 3",
   "language": "python",
   "name": "python3"
  },
  "language_info": {
   "codemirror_mode": {
    "name": "ipython",
    "version": 3
   },
   "file_extension": ".py",
   "mimetype": "text/x-python",
   "name": "python",
   "nbconvert_exporter": "python",
   "pygments_lexer": "ipython3",
   "version": "3.8.10"
  },
  "orig_nbformat": 4
 },
 "nbformat": 4,
 "nbformat_minor": 2
}
